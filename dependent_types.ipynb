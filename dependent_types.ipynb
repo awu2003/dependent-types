{
  "nbformat": 4,
  "nbformat_minor": 0,
  "metadata": {
    "colab": {
      "provenance": []
    },
    "kernelspec": {
      "name": "python3",
      "display_name": "Python 3"
    },
    "language_info": {
      "name": "python"
    }
  },
  "cells": [
    {
      "cell_type": "markdown",
      "source": [
        "# Dependent Types Implementation"
      ],
      "metadata": {
        "id": "tLrDWFwXmxDH"
      }
    },
    {
      "cell_type": "code",
      "source": [
        "from dataclasses import dataclass\n",
        "\n",
        "### Defining classes\n",
        "\n",
        "@dataclass\n",
        "class Var():\n",
        "  name: str\n",
        "\n",
        "@dataclass\n",
        "class Star():\n",
        "  pass\n",
        "\n",
        "@dataclass\n",
        "class Pi():\n",
        "  name: str\n",
        "  t1: object\n",
        "  t2: object\n",
        "\n",
        "@dataclass\n",
        "class Lambda():\n",
        "  name: str\n",
        "  t1: object\n",
        "  e2: object\n",
        "\n",
        "@dataclass\n",
        "class App():\n",
        "  e1: object\n",
        "  e2: object\n",
        "\n",
        "@dataclass\n",
        "class Natural():\n",
        "  pass\n",
        "\n",
        "@dataclass\n",
        "class Zero():\n",
        "  pass\n",
        "\n",
        "@dataclass\n",
        "class Succ():\n",
        "  e: object\n",
        "\n",
        "@dataclass\n",
        "class ElimNat():\n",
        "  e1: object\n",
        "  e2: object\n",
        "  e3: object\n",
        "  e4: object\n",
        "\n",
        "\n",
        "### definition of Expr\n",
        "Expr = Var | Star | Pi | Lambda | App | Natural | Zero | Succ | ElimNat\n",
        "\n",
        "\n",
        "def alpha_equivalence(expr1: Expr, expr2: Expr) -> bool:\n",
        "  \"\"\"checks if two expressions are equivalent under alpha-conversion\n",
        "\n",
        "    Args:\n",
        "        expr1: first expression\n",
        "        expr2: second expression\n",
        "\n",
        "    Returns:\n",
        "        true if equivalent, false otherwise\n",
        "  \"\"\"\n",
        "  if isinstance(expr1, Var) and isinstance(expr2, Var):\n",
        "    return expr1.name == expr2.name\n",
        "  elif isinstance(expr1, Star) and isinstance(expr2, Star):\n",
        "    return True\n",
        "  elif isinstance(expr1, Pi) and isinstance(expr2, Pi):\n",
        "    return expr1.name == expr2.name and alpha_equivalence(expr1.t1, expr2.t1) and alpha_equivalence(expr1.t2, expr2.t2)\n",
        "  elif isinstance(expr1, Lambda) and isinstance(expr2, Lambda):\n",
        "    return alpha_equivalence(expr1.t1, expr2.t1) and alpha_equivalence(rename(expr1.name, expr2.name, expr1.e2), expr2.e2)\n",
        "  elif isinstance(expr1, App) and isinstance(expr2, App):\n",
        "    return alpha_equivalence(expr1.e1, expr2.e1) and alpha_equivalence(expr1.e2, expr2.e2)\n",
        "  elif isinstance(expr1, Natural) and isinstance(expr2, Natural):\n",
        "    return True\n",
        "  elif isinstance(expr1, Zero) and isinstance(expr2, Zero):\n",
        "    return True\n",
        "  elif isinstance(expr1, Succ) and isinstance(expr2, Succ):\n",
        "    return alpha_equivalence(expr1.e, expr2.e)\n",
        "  elif isinstance(expr1, ElimNat) and isinstance(expr2, ElimNat):\n",
        "    return alpha_equivalence(expr1.e1, expr2.e1) and alpha_equivalence(expr1.e2, expr2.e2) and alpha_equivalence(expr1.e3, expr2.e3) and alpha_equivalence(expr1.e4, expr2.e4)\n",
        "  else:\n",
        "    return False\n",
        "\n",
        "\n",
        "def rename(old_name: str, new_name: str, expr: Expr) -> Expr:\n",
        "  \"\"\"renames all occurrences of old_name in an expression with new_name\n",
        "     i think this is a little bit broken? i'm not sure i handle the edge cases correctly\n",
        "     future work would to be fix this w de bruijn indicies\n",
        "\n",
        "    Args:\n",
        "        old_name: name to replace\n",
        "        new_name: name to replace with\n",
        "        expr: expression to rename\n",
        "\n",
        "    Returns:\n",
        "        renamed expression\n",
        "  \"\"\"\n",
        "  match expr:\n",
        "    case Var(name):\n",
        "      if name == old_name:\n",
        "        return Var(new_name)\n",
        "      else:\n",
        "        return Var(name)\n",
        "    case Star():\n",
        "      return Star()\n",
        "    case Pi(name, t1, t2):\n",
        "      if name == old_name:\n",
        "        return Pi(new_name, t1, t2)\n",
        "      else:\n",
        "        return Pi(name, t1, t2)\n",
        "    case Lambda(name, t1, e2):\n",
        "      if name == old_name:\n",
        "        return Lambda(new_name, t1, rename(old_name, new_name, e2))\n",
        "      else:\n",
        "        return Lambda(name, t1, rename(old_name, new_name, e2))\n",
        "    case App(e1, e2):\n",
        "      return App(rename(old_name, new_name, e1), rename(old_name, new_name, e2))\n",
        "    case Natural():\n",
        "      return Natural()\n",
        "    case Zero():\n",
        "      return Zero()\n",
        "    case Succ(e):\n",
        "      return Succ(rename(old_name, new_name, e))\n",
        "    case ElimNat(e1, e2, e3, e4):\n",
        "      return ElimNat(\n",
        "          rename(old_name, new_name, e1),\n",
        "          rename(old_name, new_name, e2),\n",
        "          rename(old_name, new_name, e3),\n",
        "          rename(old_name, new_name, e4)\n",
        "      )\n",
        "\n",
        "  return expr\n",
        "\n",
        "\n",
        "def free_variables(expr: Expr) -> set:\n",
        "  \"\"\"returns the set of free variables in an expression\n",
        "\n",
        "    Args:\n",
        "        expr: expression to check\n",
        "\n",
        "    Returns:\n",
        "        set of free variables\n",
        "  \"\"\"\n",
        "  match expr:\n",
        "    case Var(name):\n",
        "      return set(name)\n",
        "    case Pi(name, t1, t2):\n",
        "      return free_variables(t1).union(free_variables(t2) - set(name))\n",
        "    case Lambda(name, t1, e2):\n",
        "      return free_variables(t1).union(free_variables(e2) - set(name))\n",
        "    case App(e1, e2):\n",
        "      return free_variables(e1).union(free_variables(e2))\n",
        "    case Succ(e):\n",
        "      return free_variables(e)\n",
        "    case ElimNat(e1, e2, e3, e4):\n",
        "      return free_variables(e1).union(free_variables(e2)).union(free_variables(e3)).union(free_variables(e4))\n",
        "\n",
        "  return set()\n",
        "\n",
        "\n",
        "def subsitution(expr1: Expr, expr2: Expr, x: str) -> Expr:\n",
        "  \"\"\"substitutes all occurrences of x in expr1 with expr2\n",
        "\n",
        "    Args:\n",
        "        expr1: expression to substitute in\n",
        "        expr2: expression to substitute with\n",
        "        x: variable to substitute\n",
        "\n",
        "    Returns:\n",
        "        substituted expression\n",
        "  \"\"\"\n",
        "  match expr1:\n",
        "    case Var(name):\n",
        "      if name == x:\n",
        "        return expr2\n",
        "    case Pi(name, t1, t2):\n",
        "      if name not in free_variables(expr2).union(set(x)):\n",
        "        return Pi(name, subsitution(t1, expr2, x), subsitution(t2, expr2, x))\n",
        "    case Lambda(name, t1, e3):\n",
        "      if name not in free_variables(expr2).union(set(x)):\n",
        "        return Lambda(name, subsitution(t1, expr2, x), subsitution(e3, expr2, x))\n",
        "    case App(e3, e4):\n",
        "      return App(subsitution(e3, expr2, x), subsitution(e4, expr2, x))\n",
        "    case Succ(e3):\n",
        "      return Succ(subsitution(e3, expr2, x))\n",
        "    case ElimNat(e3, e4, e5, e6):\n",
        "      return ElimNat(\n",
        "          subsitution(e3, expr2, x),\n",
        "          subsitution(e4, expr2, x),\n",
        "          subsitution(e5, expr2, x),\n",
        "          subsitution(e6, expr2, x)\n",
        "      )\n",
        "\n",
        "  return expr1\n",
        "\n",
        "\n",
        "def eval_step(expr: Expr) -> Expr:\n",
        "  \"\"\"evaluates one step of the algorithm\n",
        "     (it steps through multiple congruence rules at once when possible)\n",
        "\n",
        "    Args:\n",
        "        expr: expression to evaluate\n",
        "\n",
        "    Returns:\n",
        "        evaluated expression\n",
        "  \"\"\"\n",
        "  match expr:\n",
        "    case App(e1, e2):\n",
        "      # eval-app\n",
        "      if isinstance(e1, Lambda):\n",
        "        return subsitution(e1.e2, e2, e1.name)\n",
        "      else:\n",
        "        # eval-rator and eval-rand\n",
        "        e3 = eval_step(e1)\n",
        "        e4 = eval_step(e2)\n",
        "        return App(e3, e4)\n",
        "    case ElimNat(e1, e2, e3, e4):\n",
        "      # eval-elimnat-0\n",
        "      if isinstance(e4, Zero):\n",
        "        return e2\n",
        "      # eval-elimnat-succ\n",
        "      elif isinstance(e4, Succ):\n",
        "        return App(App(e3, e4.e), ElimNat(e1, e2, e3, e4.e))\n",
        "      else:\n",
        "        # eval-elimnat-something-something\n",
        "        e5 = eval_step(e1)\n",
        "        e6 = eval_step(e2)\n",
        "        e7 = eval_step(e3)\n",
        "        e8 = eval_step(e4)\n",
        "        return ElimNat(e5, e6, e7, e8)\n",
        "    case Pi(name, t1, t2):\n",
        "      # eval-pi-domain and eval-pi-codomain\n",
        "      t3 = eval_step(t1)\n",
        "      t4 = eval_step(t2)\n",
        "      return Pi(name, t3, t4)\n",
        "    case Lambda(name, t1, e2):\n",
        "      # eval-lambda-body\n",
        "      # t2 = eval_step(t1)\n",
        "      e3 = eval_step(e2)\n",
        "      return Lambda(name, t1, e3)\n",
        "    case Succ(e1):\n",
        "      # eval-succ\n",
        "      e2 = eval_step(e1)\n",
        "      return Succ(e2)\n",
        "\n",
        "  return expr\n",
        "\n",
        "\n",
        "def eval_to_completion(expr: Expr) -> Expr:\n",
        "  '''evaluates until completion\n",
        "\n",
        "    Args:\n",
        "        expr: expression to evaluate\n",
        "\n",
        "    Returns:\n",
        "        evaluated expression\n",
        "  '''\n",
        "  expr1 = eval_step(expr)\n",
        "  if expr1 != expr:\n",
        "    return eval_to_completion(expr1)\n",
        "  else:\n",
        "    return expr1\n",
        "\n",
        "\n",
        "def get_type(expr: Expr, env: dict) -> Expr:\n",
        "  '''returns the type of an expression\n",
        "\n",
        "    Args:\n",
        "        expr: expression to check\n",
        "        env: environment\n",
        "\n",
        "    Returns:\n",
        "        type of expression if no errors, raises TypeError otherwise\n",
        "  '''\n",
        "  match expr:\n",
        "    case Var(name):\n",
        "      # type-var-ref\n",
        "      if name not in env:\n",
        "        raise TypeError(f'Error: variable {name} not defined')\n",
        "\n",
        "      return env[name]\n",
        "\n",
        "    case Star():\n",
        "      # type-star\n",
        "      return Star()\n",
        "\n",
        "    case Pi(name, t1, t2):\n",
        "      # type-pi\n",
        "      type_1 = get_type(t1, env)\n",
        "      if type_1 != Star():\n",
        "        raise TypeError('Error: t1 in Pi is not a type (Star())')\n",
        "\n",
        "      new_env = env.copy()\n",
        "      new_env[name] = type_1\n",
        "\n",
        "      type_2 = get_type(t2, new_env)\n",
        "      if type_2 != Star():\n",
        "        raise TypeError('Error: t2 in Pi is not a type (Star())')\n",
        "      return Star()\n",
        "\n",
        "    case Lambda(name, t1, e2):\n",
        "      # type-lambda\n",
        "      type_1 = eval_to_completion(get_type(t1, env))\n",
        "      if type_1 != Star():\n",
        "        raise TypeError('Error: t1 in Lambda is not a type (Star())')\n",
        "\n",
        "      new_env = env.copy()\n",
        "      new_env[name] = t1\n",
        "      e2_type = get_type(e2, new_env)\n",
        "      type_2 = get_type(e2_type, new_env)\n",
        "      if type_2 != Star():\n",
        "        raise TypeError('Error: e2 in Lambda is not typed correctly')\n",
        "\n",
        "      return Pi(name, t1, e2_type)\n",
        "\n",
        "    case App(e1, e2):\n",
        "      # type-app\n",
        "      e1_type = get_type(e1, env)\n",
        "      if not isinstance(e1_type, Pi):\n",
        "        raise TypeError('Error: e1 in App is not of type Pi()')\n",
        "\n",
        "      e2_type = get_type(e2, env)\n",
        "      if e2_type != e1_type.t1:\n",
        "        raise TypeError('Error: e2 in App is not the type of the input of e1')\n",
        "\n",
        "      return subsitution(e1_type.t2, e2, e1_type.name)\n",
        "\n",
        "    case Natural():\n",
        "      # type-N\n",
        "      return Star()\n",
        "\n",
        "    case Zero():\n",
        "      # type-0\n",
        "      return Natural()\n",
        "\n",
        "    case Succ(e):\n",
        "      e_type = get_type(e, env)\n",
        "      if e_type != Natural():\n",
        "        raise TypeError('Error: Succ() should take an argument of Natural() type as an input')\n",
        "\n",
        "      return Natural()\n",
        "\n",
        "    case ElimNat(e1, e2, e3, e4):\n",
        "      type_1 = get_type(e1, env)\n",
        "      if not isinstance(type_1, Pi) or type_1.t1 != Natural() or type_1.t2 != Star():\n",
        "        raise TypeError('Error: e1 in ElimNat() has incorrect type')\n",
        "\n",
        "      type_2 = get_type(e2, env)\n",
        "      if not isinstance(type_2, App) or type_2.e1 != e1 or type_2.e2 != Zero() :\n",
        "        raise TypeError('Error: e2 in ElimNat() has incorrect type')\n",
        "\n",
        "      type_3 = get_type(e3, env)\n",
        "      e3_expected_type = Pi('x', Natural(), Pi('y', App(e1, Var('x')), App(e1, Succ(Var('x')))))\n",
        "      if not alpha_equivalence(type_3, e3_expected_type):\n",
        "        raise TypeError('Error: e3 in ElimNat() has incorrect type')\n",
        "\n",
        "      type_4 = get_type(e4, env)\n",
        "      if type_4 != Natural():\n",
        "        raise TypeError('Error: e4 in ElimNat() should be an argument of Natural() type')\n",
        "\n",
        "      return App(e1, e4)\n",
        "\n",
        "\n",
        "def natural_to_int(expr: Expr) -> int:\n",
        "  '''converts a natural to an integer\n",
        "\n",
        "    Args:\n",
        "        expr: natural to convert\n",
        "\n",
        "    Returns:\n",
        "        integer representation of natural\n",
        "  '''\n",
        "  match expr:\n",
        "    case Zero():\n",
        "      return 0\n",
        "    case Succ(e):\n",
        "      return 1 + natural_to_int(e)\n",
        "\n",
        "\n",
        "def int_to_natural(i: int) -> Expr:\n",
        "  '''converts an integer to a natural\n",
        "\n",
        "    Args:\n",
        "        i: integer to convert\n",
        "\n",
        "    Returns:\n",
        "        natural representation of integer\n",
        "  '''\n",
        "  if i == 0:\n",
        "    return Zero()\n",
        "  return Succ(int_to_natural(i - 1))"
      ],
      "metadata": {
        "id": "B6hE6iviLPfr"
      },
      "execution_count": 4,
      "outputs": []
    },
    {
      "cell_type": "markdown",
      "source": [
        "# Alpha equivalence examples"
      ],
      "metadata": {
        "id": "EcvQhsXSgfOY"
      }
    },
    {
      "cell_type": "code",
      "source": [
        "# inspired by lecture on de bruijn indices\n",
        "expr_1 = Lambda('x', Natural(), App(Lambda('y', Natural(), App(Var('x'), Var('y'))), App(Var('x'), Var('y'))))\n",
        "expr_2 = Lambda('x', Natural(), App(Lambda('z', Natural(), App(Var('x'), Var('z'))), App(Var('x'), Var('z'))))\n",
        "expr_3 = Lambda('x', Natural(), App(Lambda('z', Natural(), App(Var('x'), Var('z'))), App(Var('x'), Var('y'))))\n",
        "\n",
        "print(alpha_equivalence(expr_1, expr_2))\n",
        "print(alpha_equivalence(expr_1, expr_3))"
      ],
      "metadata": {
        "colab": {
          "base_uri": "https://localhost:8080/"
        },
        "id": "u2vnqt0DgiBt",
        "outputId": "236f3166-ac27-4d6a-a1db-659a7414ff33"
      },
      "execution_count": 5,
      "outputs": [
        {
          "output_type": "stream",
          "name": "stdout",
          "text": [
            "False\n",
            "True\n"
          ]
        }
      ]
    },
    {
      "cell_type": "markdown",
      "source": [
        "# Typechecking examples"
      ],
      "metadata": {
        "id": "KGFfpTrnbCcW"
      }
    },
    {
      "cell_type": "code",
      "source": [
        "print(get_type(Var('x'), {}))"
      ],
      "metadata": {
        "colab": {
          "base_uri": "https://localhost:8080/",
          "height": 269
        },
        "id": "u2ryxRFzbz48",
        "outputId": "d26a00c3-8c2a-4440-996d-ac664332284f"
      },
      "execution_count": 6,
      "outputs": [
        {
          "output_type": "error",
          "ename": "TypeError",
          "evalue": "Error: variable x not defined",
          "traceback": [
            "\u001b[0;31m---------------------------------------------------------------------------\u001b[0m",
            "\u001b[0;31mTypeError\u001b[0m                                 Traceback (most recent call last)",
            "\u001b[0;32m<ipython-input-6-820d4b7f7768>\u001b[0m in \u001b[0;36m<cell line: 1>\u001b[0;34m()\u001b[0m\n\u001b[0;32m----> 1\u001b[0;31m \u001b[0mprint\u001b[0m\u001b[0;34m(\u001b[0m\u001b[0mget_type\u001b[0m\u001b[0;34m(\u001b[0m\u001b[0mVar\u001b[0m\u001b[0;34m(\u001b[0m\u001b[0;34m'x'\u001b[0m\u001b[0;34m)\u001b[0m\u001b[0;34m,\u001b[0m \u001b[0;34m{\u001b[0m\u001b[0;34m}\u001b[0m\u001b[0;34m)\u001b[0m\u001b[0;34m)\u001b[0m\u001b[0;34m\u001b[0m\u001b[0;34m\u001b[0m\u001b[0m\n\u001b[0m",
            "\u001b[0;32m<ipython-input-4-9516794b7572>\u001b[0m in \u001b[0;36mget_type\u001b[0;34m(expr, env)\u001b[0m\n\u001b[1;32m    278\u001b[0m       \u001b[0;31m# type-var-ref\u001b[0m\u001b[0;34m\u001b[0m\u001b[0;34m\u001b[0m\u001b[0m\n\u001b[1;32m    279\u001b[0m       \u001b[0;32mif\u001b[0m \u001b[0mname\u001b[0m \u001b[0;32mnot\u001b[0m \u001b[0;32min\u001b[0m \u001b[0menv\u001b[0m\u001b[0;34m:\u001b[0m\u001b[0;34m\u001b[0m\u001b[0;34m\u001b[0m\u001b[0m\n\u001b[0;32m--> 280\u001b[0;31m         \u001b[0;32mraise\u001b[0m \u001b[0mTypeError\u001b[0m\u001b[0;34m(\u001b[0m\u001b[0;34mf'Error: variable {name} not defined'\u001b[0m\u001b[0;34m)\u001b[0m\u001b[0;34m\u001b[0m\u001b[0;34m\u001b[0m\u001b[0m\n\u001b[0m\u001b[1;32m    281\u001b[0m \u001b[0;34m\u001b[0m\u001b[0m\n\u001b[1;32m    282\u001b[0m       \u001b[0;32mreturn\u001b[0m \u001b[0menv\u001b[0m\u001b[0;34m[\u001b[0m\u001b[0mname\u001b[0m\u001b[0;34m]\u001b[0m\u001b[0;34m\u001b[0m\u001b[0;34m\u001b[0m\u001b[0m\n",
            "\u001b[0;31mTypeError\u001b[0m: Error: variable x not defined"
          ]
        }
      ]
    },
    {
      "cell_type": "code",
      "source": [
        "print(get_type(Var('x'), {'x': Natural()}))"
      ],
      "metadata": {
        "colab": {
          "base_uri": "https://localhost:8080/"
        },
        "id": "G0YCUGCGbth6",
        "outputId": "e0d656ce-53f1-43ca-f836-d22addc77afe"
      },
      "execution_count": 7,
      "outputs": [
        {
          "output_type": "stream",
          "name": "stdout",
          "text": [
            "Natural()\n"
          ]
        }
      ]
    },
    {
      "cell_type": "code",
      "source": [
        "print(get_type(Var('x'), {'x': Star()}))"
      ],
      "metadata": {
        "id": "_xdjZtKJfrjS",
        "colab": {
          "base_uri": "https://localhost:8080/"
        },
        "outputId": "89fbd5d1-423d-48b6-8c2e-3f4a1e028ecc"
      },
      "execution_count": 8,
      "outputs": [
        {
          "output_type": "stream",
          "name": "stdout",
          "text": [
            "Star()\n"
          ]
        }
      ]
    },
    {
      "cell_type": "code",
      "source": [
        "print(get_type(Succ(Succ(Zero())), {}))"
      ],
      "metadata": {
        "id": "NZ-b44E9Ox-7",
        "colab": {
          "base_uri": "https://localhost:8080/"
        },
        "outputId": "a5695117-d45b-4c1e-f312-9d4a4683c541"
      },
      "execution_count": 9,
      "outputs": [
        {
          "output_type": "stream",
          "name": "stdout",
          "text": [
            "Natural()\n"
          ]
        }
      ]
    },
    {
      "cell_type": "code",
      "source": [
        "print(get_type(Lambda('x', Natural(), Succ(Var('x'))), {'x': Natural()}))"
      ],
      "metadata": {
        "id": "xGapjR3QbMXL",
        "colab": {
          "base_uri": "https://localhost:8080/"
        },
        "outputId": "23f41d0e-0451-4efa-f6cc-1e12798ff12f"
      },
      "execution_count": 10,
      "outputs": [
        {
          "output_type": "stream",
          "name": "stdout",
          "text": [
            "Pi(name='x', t1=Natural(), t2=Natural())\n"
          ]
        }
      ]
    },
    {
      "cell_type": "code",
      "source": [
        "print(get_type(Lambda('x', Star(), Succ(Var('x'))), {'x': Star()}))"
      ],
      "metadata": {
        "id": "uARiCDRlgTNQ",
        "colab": {
          "base_uri": "https://localhost:8080/",
          "height": 293
        },
        "outputId": "497a4587-b76d-407d-d5b6-9ad71caa4928"
      },
      "execution_count": 11,
      "outputs": [
        {
          "output_type": "error",
          "ename": "TypeError",
          "evalue": "Error: Succ() should take an argument of Natural() type as an input",
          "traceback": [
            "\u001b[0;31m---------------------------------------------------------------------------\u001b[0m",
            "\u001b[0;31mTypeError\u001b[0m                                 Traceback (most recent call last)",
            "\u001b[0;32m<ipython-input-11-495b67aa847d>\u001b[0m in \u001b[0;36m<cell line: 1>\u001b[0;34m()\u001b[0m\n\u001b[0;32m----> 1\u001b[0;31m \u001b[0mprint\u001b[0m\u001b[0;34m(\u001b[0m\u001b[0mget_type\u001b[0m\u001b[0;34m(\u001b[0m\u001b[0mLambda\u001b[0m\u001b[0;34m(\u001b[0m\u001b[0;34m'x'\u001b[0m\u001b[0;34m,\u001b[0m \u001b[0mStar\u001b[0m\u001b[0;34m(\u001b[0m\u001b[0;34m)\u001b[0m\u001b[0;34m,\u001b[0m \u001b[0mSucc\u001b[0m\u001b[0;34m(\u001b[0m\u001b[0mVar\u001b[0m\u001b[0;34m(\u001b[0m\u001b[0;34m'x'\u001b[0m\u001b[0;34m)\u001b[0m\u001b[0;34m)\u001b[0m\u001b[0;34m)\u001b[0m\u001b[0;34m,\u001b[0m \u001b[0;34m{\u001b[0m\u001b[0;34m'x'\u001b[0m\u001b[0;34m:\u001b[0m \u001b[0mStar\u001b[0m\u001b[0;34m(\u001b[0m\u001b[0;34m)\u001b[0m\u001b[0;34m}\u001b[0m\u001b[0;34m)\u001b[0m\u001b[0;34m)\u001b[0m\u001b[0;34m\u001b[0m\u001b[0;34m\u001b[0m\u001b[0m\n\u001b[0m",
            "\u001b[0;32m<ipython-input-4-9516794b7572>\u001b[0m in \u001b[0;36mget_type\u001b[0;34m(expr, env)\u001b[0m\n\u001b[1;32m    308\u001b[0m       \u001b[0mnew_env\u001b[0m \u001b[0;34m=\u001b[0m \u001b[0menv\u001b[0m\u001b[0;34m.\u001b[0m\u001b[0mcopy\u001b[0m\u001b[0;34m(\u001b[0m\u001b[0;34m)\u001b[0m\u001b[0;34m\u001b[0m\u001b[0;34m\u001b[0m\u001b[0m\n\u001b[1;32m    309\u001b[0m       \u001b[0mnew_env\u001b[0m\u001b[0;34m[\u001b[0m\u001b[0mname\u001b[0m\u001b[0;34m]\u001b[0m \u001b[0;34m=\u001b[0m \u001b[0mt1\u001b[0m\u001b[0;34m\u001b[0m\u001b[0;34m\u001b[0m\u001b[0m\n\u001b[0;32m--> 310\u001b[0;31m       \u001b[0me2_type\u001b[0m \u001b[0;34m=\u001b[0m \u001b[0mget_type\u001b[0m\u001b[0;34m(\u001b[0m\u001b[0me2\u001b[0m\u001b[0;34m,\u001b[0m \u001b[0mnew_env\u001b[0m\u001b[0;34m)\u001b[0m\u001b[0;34m\u001b[0m\u001b[0;34m\u001b[0m\u001b[0m\n\u001b[0m\u001b[1;32m    311\u001b[0m       \u001b[0mtype_2\u001b[0m \u001b[0;34m=\u001b[0m \u001b[0mget_type\u001b[0m\u001b[0;34m(\u001b[0m\u001b[0me2_type\u001b[0m\u001b[0;34m,\u001b[0m \u001b[0mnew_env\u001b[0m\u001b[0;34m)\u001b[0m\u001b[0;34m\u001b[0m\u001b[0;34m\u001b[0m\u001b[0m\n\u001b[1;32m    312\u001b[0m       \u001b[0;32mif\u001b[0m \u001b[0mtype_2\u001b[0m \u001b[0;34m!=\u001b[0m \u001b[0mStar\u001b[0m\u001b[0;34m(\u001b[0m\u001b[0;34m)\u001b[0m\u001b[0;34m:\u001b[0m\u001b[0;34m\u001b[0m\u001b[0;34m\u001b[0m\u001b[0m\n",
            "\u001b[0;32m<ipython-input-4-9516794b7572>\u001b[0m in \u001b[0;36mget_type\u001b[0;34m(expr, env)\u001b[0m\n\u001b[1;32m    338\u001b[0m       \u001b[0me_type\u001b[0m \u001b[0;34m=\u001b[0m \u001b[0mget_type\u001b[0m\u001b[0;34m(\u001b[0m\u001b[0me\u001b[0m\u001b[0;34m,\u001b[0m \u001b[0menv\u001b[0m\u001b[0;34m)\u001b[0m\u001b[0;34m\u001b[0m\u001b[0;34m\u001b[0m\u001b[0m\n\u001b[1;32m    339\u001b[0m       \u001b[0;32mif\u001b[0m \u001b[0me_type\u001b[0m \u001b[0;34m!=\u001b[0m \u001b[0mNatural\u001b[0m\u001b[0;34m(\u001b[0m\u001b[0;34m)\u001b[0m\u001b[0;34m:\u001b[0m\u001b[0;34m\u001b[0m\u001b[0;34m\u001b[0m\u001b[0m\n\u001b[0;32m--> 340\u001b[0;31m         \u001b[0;32mraise\u001b[0m \u001b[0mTypeError\u001b[0m\u001b[0;34m(\u001b[0m\u001b[0;34m'Error: Succ() should take an argument of Natural() type as an input'\u001b[0m\u001b[0;34m)\u001b[0m\u001b[0;34m\u001b[0m\u001b[0;34m\u001b[0m\u001b[0m\n\u001b[0m\u001b[1;32m    341\u001b[0m \u001b[0;34m\u001b[0m\u001b[0m\n\u001b[1;32m    342\u001b[0m       \u001b[0;32mreturn\u001b[0m \u001b[0mNatural\u001b[0m\u001b[0;34m(\u001b[0m\u001b[0;34m)\u001b[0m\u001b[0;34m\u001b[0m\u001b[0;34m\u001b[0m\u001b[0m\n",
            "\u001b[0;31mTypeError\u001b[0m: Error: Succ() should take an argument of Natural() type as an input"
          ]
        }
      ]
    },
    {
      "cell_type": "markdown",
      "source": [
        "# Mathematical operator exampels"
      ],
      "metadata": {
        "id": "X8IfBtThbGFp"
      }
    },
    {
      "cell_type": "code",
      "source": [
        "add = Lambda('x', Natural(),\n",
        "             Lambda('y', Natural(),\n",
        "                    ElimNat(Lambda('_', Natural(), Natural()),\n",
        "                            Var('y'),\n",
        "                            Lambda('_', Natural(),\n",
        "                                   Lambda('rec', Natural(), Succ(Var('rec')))),\n",
        "                            Var('x'))))"
      ],
      "metadata": {
        "id": "ENDu3qwV_2cX"
      },
      "execution_count": 12,
      "outputs": []
    },
    {
      "cell_type": "code",
      "source": [
        "num_4, num_5, num_6 = int_to_natural(4), int_to_natural(5), int_to_natural(6)\n",
        "\n",
        "### commutativity of addition\n",
        "# 4 + 5\n",
        "comm_1 = natural_to_int(eval_to_completion(App(App(add, num_4), num_5)))\n",
        "# 5 + 4\n",
        "comm_2 = natural_to_int(eval_to_completion(App(App(add, num_5), num_4)))\n",
        "\n",
        "assert comm_1 == 9\n",
        "assert comm_2 == 9\n",
        "assert comm_1 == comm_2\n",
        "\n",
        "\n",
        "### associativity of addition\n",
        "# (4 + 5) + 6\n",
        "assoc_1 = natural_to_int(eval_to_completion(App(App(add, num_4), App(App(add, num_5), num_6))))\n",
        "# 4 + (5 + 6)\n",
        "assoc_2 = natural_to_int(eval_to_completion(App(App(add, App(App(add, num_4), num_5)), num_6)))\n",
        "\n",
        "assert assoc_1 == 15\n",
        "assert assoc_2 == 15\n",
        "assert assoc_1 == assoc_2"
      ],
      "metadata": {
        "id": "apvkHLAYjcUo"
      },
      "execution_count": 13,
      "outputs": []
    }
  ]
}